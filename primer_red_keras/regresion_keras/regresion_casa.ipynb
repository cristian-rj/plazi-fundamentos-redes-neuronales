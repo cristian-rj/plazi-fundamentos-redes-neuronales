{
 "cells": [
  {
   "cell_type": "code",
   "execution_count": 1,
   "metadata": {},
   "outputs": [
    {
     "name": "stdout",
     "output_type": "stream",
     "text": [
      "WARNING:tensorflow:From c:\\Users\\crist\\AppData\\Local\\Programs\\Python\\Python311\\Lib\\site-packages\\keras\\src\\losses.py:2976: The name tf.losses.sparse_softmax_cross_entropy is deprecated. Please use tf.compat.v1.losses.sparse_softmax_cross_entropy instead.\n",
      "\n"
     ]
    }
   ],
   "source": [
    "import tensorflow as tf\n",
    "import pandas as pd\n",
    "import numpy as np\n",
    "\n",
    "from keras.datasets import boston_housing\n",
    "from keras import layers, models, optimizers "
   ]
  },
  {
   "cell_type": "code",
   "execution_count": 2,
   "metadata": {},
   "outputs": [
    {
     "name": "stdout",
     "output_type": "stream",
     "text": [
      "Downloading data from https://storage.googleapis.com/tensorflow/tf-keras-datasets/boston_housing.npz\n",
      "57026/57026 [==============================] - 0s 1us/step\n"
     ]
    }
   ],
   "source": [
    "#Cargando los datos\n",
    "(train_data, train_labels), (test_data, test_labels) = boston_housing.load_data()"
   ]
  },
  {
   "cell_type": "code",
   "execution_count": 3,
   "metadata": {},
   "outputs": [
    {
     "data": {
      "text/plain": [
       "(404, 13)"
      ]
     },
     "execution_count": 3,
     "metadata": {},
     "output_type": "execute_result"
    }
   ],
   "source": [
    "train_data.shape"
   ]
  },
  {
   "cell_type": "code",
   "execution_count": 5,
   "metadata": {},
   "outputs": [
    {
     "data": {
      "text/plain": [
       "(404,)"
      ]
     },
     "execution_count": 5,
     "metadata": {},
     "output_type": "execute_result"
    }
   ],
   "source": [
    "train_labels.shape"
   ]
  },
  {
   "cell_type": "code",
   "execution_count": 6,
   "metadata": {},
   "outputs": [
    {
     "data": {
      "text/plain": [
       "array([  1.23247,   0.     ,   8.14   ,   0.     ,   0.538  ,   6.142  ,\n",
       "        91.7    ,   3.9769 ,   4.     , 307.     ,  21.     , 396.9    ,\n",
       "        18.72   ])"
      ]
     },
     "execution_count": 6,
     "metadata": {},
     "output_type": "execute_result"
    }
   ],
   "source": [
    "train_data[0]"
   ]
  },
  {
   "cell_type": "code",
   "execution_count": 7,
   "metadata": {},
   "outputs": [
    {
     "data": {
      "text/plain": [
       "15.2"
      ]
     },
     "execution_count": 7,
     "metadata": {},
     "output_type": "execute_result"
    }
   ],
   "source": [
    "train_labels[0]"
   ]
  },
  {
   "cell_type": "markdown",
   "metadata": {},
   "source": [
    "Normalización de los datos"
   ]
  },
  {
   "cell_type": "code",
   "execution_count": 10,
   "metadata": {},
   "outputs": [],
   "source": [
    "mean = train_data.mean(axis=0)\n",
    "std = train_data.std(axis=0)\n",
    "train_data = (train_data - mean) / std\n",
    "\n",
    "test_data = (test_data - mean) / std"
   ]
  },
  {
   "cell_type": "markdown",
   "metadata": {},
   "source": [
    "Para el conjunto de test, uso la media `mean` y la desviación `std` del conjunto de <strong>train</strong>. Esto debido a que en relidad debería usar siempre mis datos de entrenamiento para correr los modelos."
   ]
  },
  {
   "cell_type": "code",
   "execution_count": 9,
   "metadata": {},
   "outputs": [
    {
     "data": {
      "text/plain": [
       "array([-0.27224633, -0.48361547, -0.43576161, -0.25683275, -0.1652266 ,\n",
       "       -0.1764426 ,  0.81306188,  0.1166983 , -0.62624905, -0.59517003,\n",
       "        1.14850044,  0.44807713,  0.8252202 ])"
      ]
     },
     "execution_count": 9,
     "metadata": {},
     "output_type": "execute_result"
    }
   ],
   "source": [
    "train_data[0]"
   ]
  },
  {
   "cell_type": "code",
   "execution_count": 11,
   "metadata": {},
   "outputs": [
    {
     "data": {
      "text/plain": [
       "array([ 1.80846000e+01, -1.09923072e-17,  1.81000000e+01,  1.26686340e-16,\n",
       "        6.79000000e-01,  6.43400000e+00,  1.00000000e+02,  1.83470000e+00,\n",
       "        2.40000000e+01,  6.66000000e+02,  2.02000000e+01,  2.72500000e+01,\n",
       "        2.90500000e+01])"
      ]
     },
     "execution_count": 11,
     "metadata": {},
     "output_type": "execute_result"
    }
   ],
   "source": [
    "test_data[0]"
   ]
  },
  {
   "cell_type": "markdown",
   "metadata": {},
   "source": [
    "Construcción del modelo"
   ]
  },
  {
   "cell_type": "code",
   "execution_count": 47,
   "metadata": {},
   "outputs": [],
   "source": [
    "def build_model_regresion(lr_val, input_data):\n",
    "    model = models.Sequential()\n",
    "    model.add(layers.Dense(64, activation='relu', input_shape=(input_data,)))\n",
    "    model.add(layers.Dense(64, activation='relu'))\n",
    "    model.add(layers.Dense(1)) # No requiere una capa de activación ya que el resultado esperado es un valor continuo.\n",
    "    model.compile(optimizer = optimizers.RMSprop(lr=lr_val),loss='mse', metrics=['mae'])\n",
    "    return model"
   ]
  },
  {
   "cell_type": "code",
   "execution_count": 48,
   "metadata": {},
   "outputs": [],
   "source": [
    "# k-Fold validation\n",
    "\n",
    "k = 4\n",
    "num_val_samples = len(train_data) // k\n",
    "num_epoch = 110\n",
    "all_history = []"
   ]
  },
  {
   "cell_type": "code",
   "execution_count": 49,
   "metadata": {},
   "outputs": [
    {
     "name": "stderr",
     "output_type": "stream",
     "text": [
      "WARNING:absl:`lr` is deprecated in Keras optimizer, please use `learning_rate` or use the legacy optimizer, e.g.,tf.keras.optimizers.legacy.RMSprop.\n"
     ]
    },
    {
     "name": "stdout",
     "output_type": "stream",
     "text": [
      "Flod:  0\n"
     ]
    },
    {
     "name": "stderr",
     "output_type": "stream",
     "text": [
      "WARNING:absl:`lr` is deprecated in Keras optimizer, please use `learning_rate` or use the legacy optimizer, e.g.,tf.keras.optimizers.legacy.RMSprop.\n"
     ]
    },
    {
     "name": "stdout",
     "output_type": "stream",
     "text": [
      "Flod:  1\n"
     ]
    },
    {
     "name": "stderr",
     "output_type": "stream",
     "text": [
      "WARNING:absl:`lr` is deprecated in Keras optimizer, please use `learning_rate` or use the legacy optimizer, e.g.,tf.keras.optimizers.legacy.RMSprop.\n"
     ]
    },
    {
     "name": "stdout",
     "output_type": "stream",
     "text": [
      "Flod:  2\n"
     ]
    },
    {
     "name": "stderr",
     "output_type": "stream",
     "text": [
      "WARNING:absl:`lr` is deprecated in Keras optimizer, please use `learning_rate` or use the legacy optimizer, e.g.,tf.keras.optimizers.legacy.RMSprop.\n"
     ]
    },
    {
     "name": "stdout",
     "output_type": "stream",
     "text": [
      "Flod:  3\n"
     ]
    }
   ],
   "source": [
    "for i in range(k):\n",
    "    print('Flod: ', i)\n",
    "    #Conjuntos de validación \n",
    "    val_data = train_data[i*num_val_samples: (i+1)*num_val_samples]\n",
    "    val_targets = train_labels[i*num_val_samples: (i+1)*num_val_samples]\n",
    "\n",
    "    # Conjuntos de entrenamiento \n",
    "    partial_train_data = np.concatenate(\n",
    "        [train_data[:i*num_val_samples],\n",
    "         train_data[(i+1)*num_val_samples:]\n",
    "         ], axis=0\n",
    "    )\n",
    "    partial_train_targets = np.concatenate(\n",
    "        [train_labels[:i*num_val_samples],\n",
    "         train_labels[(i+1)*num_val_samples:]\n",
    "         ], axis=0\n",
    "    )\n",
    "\n",
    "    # Construccion del modelo \n",
    "    model = build_model_regresion(0.001, 13)\n",
    "    history = model.fit(partial_train_data, partial_train_targets,\n",
    "                        epochs=num_epoch,\n",
    "                        batch_size=16,\n",
    "                        validation_data=(val_data, val_targets),\n",
    "                        verbose=0)\n",
    "    \n",
    "\n",
    "    # Guardando los resultados de cada itereación\n",
    "    all_history.append(history.history['val_mae'])\n"
   ]
  },
  {
   "cell_type": "code",
   "execution_count": 50,
   "metadata": {},
   "outputs": [
    {
     "data": {
      "text/plain": [
       "[[19.619308471679688,\n",
       "  16.899673461914062,\n",
       "  13.412263870239258,\n",
       "  9.479701042175293,\n",
       "  6.016280174255371,\n",
       "  4.584997177124023,\n",
       "  3.9249632358551025,\n",
       "  3.4981305599212646,\n",
       "  3.400151014328003,\n",
       "  3.348133087158203,\n",
       "  3.1127536296844482,\n",
       "  3.024717092514038,\n",
       "  2.9444916248321533,\n",
       "  2.8708062171936035,\n",
       "  2.848093271255493,\n",
       "  2.792482614517212,\n",
       "  2.6256935596466064,\n",
       "  2.6780290603637695,\n",
       "  2.5929901599884033,\n",
       "  2.4187731742858887,\n",
       "  2.3836607933044434,\n",
       "  2.40797758102417,\n",
       "  2.3336031436920166,\n",
       "  2.315272808074951,\n",
       "  2.275885820388794,\n",
       "  2.269810914993286,\n",
       "  2.2328073978424072,\n",
       "  2.1997673511505127,\n",
       "  2.2031261920928955,\n",
       "  2.1950533390045166,\n",
       "  2.0770821571350098,\n",
       "  2.105848789215088,\n",
       "  2.138028383255005,\n",
       "  2.269899845123291,\n",
       "  2.069345235824585,\n",
       "  2.0958104133605957,\n",
       "  2.130866765975952,\n",
       "  2.0577549934387207,\n",
       "  2.054502487182617,\n",
       "  2.1157829761505127,\n",
       "  2.0986275672912598,\n",
       "  2.058337688446045,\n",
       "  2.0555408000946045,\n",
       "  2.0023579597473145,\n",
       "  2.094449281692505,\n",
       "  2.054616689682007,\n",
       "  1.9705252647399902,\n",
       "  2.06089448928833,\n",
       "  2.019097089767456,\n",
       "  1.990176796913147,\n",
       "  1.9550228118896484,\n",
       "  1.9957249164581299,\n",
       "  2.010634660720825,\n",
       "  2.1436474323272705,\n",
       "  1.9787904024124146,\n",
       "  2.0371532440185547,\n",
       "  2.0114455223083496,\n",
       "  1.9765033721923828,\n",
       "  1.959730863571167,\n",
       "  1.9988375902175903,\n",
       "  2.022890567779541,\n",
       "  2.013753652572632,\n",
       "  1.9272394180297852,\n",
       "  1.9215019941329956,\n",
       "  2.1062488555908203,\n",
       "  1.9179638624191284,\n",
       "  2.016061544418335,\n",
       "  1.996919870376587,\n",
       "  2.0046164989471436,\n",
       "  1.99557626247406,\n",
       "  2.0434296131134033,\n",
       "  1.947514295578003,\n",
       "  1.9857982397079468,\n",
       "  1.9396148920059204,\n",
       "  1.935143232345581,\n",
       "  1.942281723022461,\n",
       "  1.9264084100723267,\n",
       "  1.984636664390564,\n",
       "  1.9974745512008667,\n",
       "  1.9905431270599365,\n",
       "  1.976616621017456,\n",
       "  1.955202579498291,\n",
       "  1.9729770421981812,\n",
       "  1.9468681812286377,\n",
       "  1.9742351770401,\n",
       "  1.9917601346969604,\n",
       "  2.2947442531585693,\n",
       "  1.945436716079712,\n",
       "  2.0334770679473877,\n",
       "  1.9687851667404175,\n",
       "  1.9359946250915527,\n",
       "  2.317286491394043,\n",
       "  2.0492069721221924,\n",
       "  2.0237584114074707,\n",
       "  1.941349744796753,\n",
       "  1.995546579360962,\n",
       "  1.958306908607483,\n",
       "  2.0086257457733154,\n",
       "  2.0844178199768066,\n",
       "  2.0626726150512695,\n",
       "  2.0872342586517334,\n",
       "  2.0771994590759277,\n",
       "  2.0639634132385254,\n",
       "  2.110795259475708,\n",
       "  1.9985814094543457,\n",
       "  1.992691993713379,\n",
       "  2.0517168045043945,\n",
       "  1.9657268524169922,\n",
       "  1.9556314945220947,\n",
       "  1.9740351438522339],\n",
       " [19.570880889892578,\n",
       "  16.651790618896484,\n",
       "  12.872114181518555,\n",
       "  8.774937629699707,\n",
       "  5.8229193687438965,\n",
       "  4.7160964012146,\n",
       "  4.168643951416016,\n",
       "  4.064500331878662,\n",
       "  3.6606242656707764,\n",
       "  3.5500168800354004,\n",
       "  3.471465826034546,\n",
       "  3.373203754425049,\n",
       "  3.366370677947998,\n",
       "  3.182650089263916,\n",
       "  3.1875195503234863,\n",
       "  3.0881519317626953,\n",
       "  3.020657777786255,\n",
       "  3.026850938796997,\n",
       "  3.039201498031616,\n",
       "  2.820751190185547,\n",
       "  2.8856687545776367,\n",
       "  2.8015007972717285,\n",
       "  2.783210277557373,\n",
       "  2.7349345684051514,\n",
       "  2.7480218410491943,\n",
       "  2.764338731765747,\n",
       "  2.7876696586608887,\n",
       "  2.6977176666259766,\n",
       "  2.794534206390381,\n",
       "  2.8139398097991943,\n",
       "  2.7412118911743164,\n",
       "  2.6768016815185547,\n",
       "  2.7768919467926025,\n",
       "  2.691211462020874,\n",
       "  2.6821067333221436,\n",
       "  2.847630023956299,\n",
       "  2.689955949783325,\n",
       "  2.6042087078094482,\n",
       "  2.6794815063476562,\n",
       "  2.6345531940460205,\n",
       "  2.692835807800293,\n",
       "  2.738523006439209,\n",
       "  2.6527392864227295,\n",
       "  2.7436306476593018,\n",
       "  2.6055641174316406,\n",
       "  2.6066997051239014,\n",
       "  2.575345754623413,\n",
       "  2.544025182723999,\n",
       "  2.565457582473755,\n",
       "  2.5668234825134277,\n",
       "  2.5289931297302246,\n",
       "  2.554886817932129,\n",
       "  2.6343984603881836,\n",
       "  2.5837903022766113,\n",
       "  2.5512213706970215,\n",
       "  2.6225497722625732,\n",
       "  2.6625189781188965,\n",
       "  2.6310856342315674,\n",
       "  2.6399662494659424,\n",
       "  2.611945390701294,\n",
       "  2.6698145866394043,\n",
       "  2.7390058040618896,\n",
       "  2.5695486068725586,\n",
       "  2.5392813682556152,\n",
       "  2.4843063354492188,\n",
       "  2.6179378032684326,\n",
       "  2.5620625019073486,\n",
       "  2.522284746170044,\n",
       "  2.5917201042175293,\n",
       "  2.6721770763397217,\n",
       "  2.495468854904175,\n",
       "  2.5374832153320312,\n",
       "  2.5776970386505127,\n",
       "  2.5032951831817627,\n",
       "  2.5834670066833496,\n",
       "  2.5336804389953613,\n",
       "  2.6114821434020996,\n",
       "  2.482959747314453,\n",
       "  2.6114749908447266,\n",
       "  2.5938289165496826,\n",
       "  2.4272844791412354,\n",
       "  2.6569008827209473,\n",
       "  2.496718645095825,\n",
       "  2.4846436977386475,\n",
       "  2.4790453910827637,\n",
       "  2.4991464614868164,\n",
       "  2.5096452236175537,\n",
       "  2.67769455909729,\n",
       "  2.513453483581543,\n",
       "  2.622465133666992,\n",
       "  2.6318390369415283,\n",
       "  2.6906871795654297,\n",
       "  2.4844236373901367,\n",
       "  2.729254722595215,\n",
       "  2.504615068435669,\n",
       "  2.46142840385437,\n",
       "  2.500638246536255,\n",
       "  2.4911983013153076,\n",
       "  2.455242872238159,\n",
       "  2.4676740169525146,\n",
       "  2.418006181716919,\n",
       "  2.4998559951782227,\n",
       "  2.4167115688323975,\n",
       "  2.464552640914917,\n",
       "  2.5162346363067627,\n",
       "  2.521984338760376,\n",
       "  2.6811270713806152,\n",
       "  2.5061068534851074,\n",
       "  2.4367034435272217,\n",
       "  2.4949264526367188],\n",
       " [18.12051773071289,\n",
       "  14.792349815368652,\n",
       "  10.956510543823242,\n",
       "  7.722908020019531,\n",
       "  5.858585357666016,\n",
       "  4.542969226837158,\n",
       "  3.7794442176818848,\n",
       "  3.431255578994751,\n",
       "  3.341500759124756,\n",
       "  3.259636878967285,\n",
       "  3.0613391399383545,\n",
       "  3.0323569774627686,\n",
       "  2.8304073810577393,\n",
       "  2.8004150390625,\n",
       "  2.8180248737335205,\n",
       "  2.682966470718384,\n",
       "  2.7533137798309326,\n",
       "  2.6884779930114746,\n",
       "  2.7638909816741943,\n",
       "  2.63559627532959,\n",
       "  2.713832378387451,\n",
       "  2.652271032333374,\n",
       "  2.7264404296875,\n",
       "  2.618415117263794,\n",
       "  2.61667537689209,\n",
       "  2.6187362670898438,\n",
       "  2.6178603172302246,\n",
       "  2.602438449859619,\n",
       "  2.615950107574463,\n",
       "  2.6210949420928955,\n",
       "  2.611832618713379,\n",
       "  2.6154351234436035,\n",
       "  2.609841823577881,\n",
       "  2.5758817195892334,\n",
       "  2.5790655612945557,\n",
       "  2.6120450496673584,\n",
       "  2.591312885284424,\n",
       "  2.5640392303466797,\n",
       "  2.6967415809631348,\n",
       "  2.6190989017486572,\n",
       "  2.5483930110931396,\n",
       "  2.5383903980255127,\n",
       "  2.5465731620788574,\n",
       "  2.557483434677124,\n",
       "  2.5595033168792725,\n",
       "  2.574221134185791,\n",
       "  2.538424253463745,\n",
       "  2.613152503967285,\n",
       "  2.553508996963501,\n",
       "  2.572845697402954,\n",
       "  2.6326656341552734,\n",
       "  2.5459818840026855,\n",
       "  2.6948585510253906,\n",
       "  2.5455691814422607,\n",
       "  2.571723222732544,\n",
       "  2.5768702030181885,\n",
       "  2.5329089164733887,\n",
       "  2.5124716758728027,\n",
       "  2.521172046661377,\n",
       "  2.522589921951294,\n",
       "  2.5278103351593018,\n",
       "  2.490504503250122,\n",
       "  2.4927897453308105,\n",
       "  2.511336326599121,\n",
       "  2.6030726432800293,\n",
       "  2.5012879371643066,\n",
       "  2.494838237762451,\n",
       "  2.5475821495056152,\n",
       "  2.488233804702759,\n",
       "  2.4998414516448975,\n",
       "  2.479881763458252,\n",
       "  2.5429680347442627,\n",
       "  2.545990228652954,\n",
       "  2.504354476928711,\n",
       "  2.565389394760132,\n",
       "  2.6113929748535156,\n",
       "  2.5402016639709473,\n",
       "  2.5414113998413086,\n",
       "  2.487241506576538,\n",
       "  2.464505910873413,\n",
       "  2.5125386714935303,\n",
       "  2.5402450561523438,\n",
       "  2.4841244220733643,\n",
       "  2.4616658687591553,\n",
       "  2.5210039615631104,\n",
       "  2.5599515438079834,\n",
       "  2.478600025177002,\n",
       "  2.5663304328918457,\n",
       "  2.6317694187164307,\n",
       "  2.496321439743042,\n",
       "  2.512718915939331,\n",
       "  2.516087055206299,\n",
       "  2.4985928535461426,\n",
       "  2.486631155014038,\n",
       "  2.497166872024536,\n",
       "  2.4979395866394043,\n",
       "  2.4979665279388428,\n",
       "  2.4805283546447754,\n",
       "  2.5153207778930664,\n",
       "  2.512860059738159,\n",
       "  2.4957826137542725,\n",
       "  2.5397820472717285,\n",
       "  2.5350542068481445,\n",
       "  2.530496120452881,\n",
       "  2.4717915058135986,\n",
       "  2.5462722778320312,\n",
       "  2.531423807144165,\n",
       "  2.5700998306274414,\n",
       "  2.5365428924560547,\n",
       "  2.5379762649536133],\n",
       " [21.20969581604004,\n",
       "  17.31383514404297,\n",
       "  12.535557746887207,\n",
       "  8.541536331176758,\n",
       "  6.752560615539551,\n",
       "  5.597268104553223,\n",
       "  4.811002254486084,\n",
       "  4.274899482727051,\n",
       "  3.9042491912841797,\n",
       "  3.747203826904297,\n",
       "  3.764281988143921,\n",
       "  3.526883840560913,\n",
       "  3.459908962249756,\n",
       "  3.275178909301758,\n",
       "  3.252149820327759,\n",
       "  3.195356607437134,\n",
       "  3.0836598873138428,\n",
       "  3.1464788913726807,\n",
       "  2.956002950668335,\n",
       "  3.2925193309783936,\n",
       "  2.9888858795166016,\n",
       "  2.868421792984009,\n",
       "  2.864220142364502,\n",
       "  3.061537265777588,\n",
       "  2.965160369873047,\n",
       "  2.879075050354004,\n",
       "  2.8302361965179443,\n",
       "  2.8371877670288086,\n",
       "  2.906702995300293,\n",
       "  2.761367082595825,\n",
       "  2.7878730297088623,\n",
       "  2.798548936843872,\n",
       "  2.7970595359802246,\n",
       "  2.7100863456726074,\n",
       "  2.888338327407837,\n",
       "  2.751499891281128,\n",
       "  2.8723537921905518,\n",
       "  2.7026572227478027,\n",
       "  2.818101644515991,\n",
       "  2.684075355529785,\n",
       "  2.826075553894043,\n",
       "  2.656262159347534,\n",
       "  2.6629889011383057,\n",
       "  2.6472582817077637,\n",
       "  2.594716787338257,\n",
       "  2.620882272720337,\n",
       "  2.6921093463897705,\n",
       "  2.648444175720215,\n",
       "  2.696378231048584,\n",
       "  2.735879421234131,\n",
       "  2.7086102962493896,\n",
       "  2.6088523864746094,\n",
       "  2.856062412261963,\n",
       "  2.8612582683563232,\n",
       "  2.657428026199341,\n",
       "  2.646782875061035,\n",
       "  2.579650640487671,\n",
       "  2.7014870643615723,\n",
       "  2.6494905948638916,\n",
       "  2.671492576599121,\n",
       "  2.530301570892334,\n",
       "  2.5979459285736084,\n",
       "  2.721482038497925,\n",
       "  2.532390832901001,\n",
       "  2.649247884750366,\n",
       "  2.6434009075164795,\n",
       "  2.531679630279541,\n",
       "  2.6487526893615723,\n",
       "  2.610628604888916,\n",
       "  2.621213436126709,\n",
       "  2.802039384841919,\n",
       "  2.641559362411499,\n",
       "  2.516266107559204,\n",
       "  2.720632314682007,\n",
       "  2.508809804916382,\n",
       "  2.5631206035614014,\n",
       "  2.619020700454712,\n",
       "  2.5989468097686768,\n",
       "  2.516927480697632,\n",
       "  2.5521860122680664,\n",
       "  2.5281991958618164,\n",
       "  2.7808938026428223,\n",
       "  2.6555557250976562,\n",
       "  2.5392796993255615,\n",
       "  2.5861079692840576,\n",
       "  2.638354539871216,\n",
       "  2.5810370445251465,\n",
       "  2.5292012691497803,\n",
       "  2.54119873046875,\n",
       "  2.5302205085754395,\n",
       "  2.6848697662353516,\n",
       "  2.573875904083252,\n",
       "  2.593456268310547,\n",
       "  2.5596776008605957,\n",
       "  2.614961862564087,\n",
       "  2.5322675704956055,\n",
       "  2.7488484382629395,\n",
       "  2.5481512546539307,\n",
       "  2.5246968269348145,\n",
       "  2.5075860023498535,\n",
       "  2.6510543823242188,\n",
       "  2.554149866104126,\n",
       "  2.6418583393096924,\n",
       "  2.614481210708618,\n",
       "  2.5392165184020996,\n",
       "  2.5629265308380127,\n",
       "  2.547123670578003,\n",
       "  2.588334798812866,\n",
       "  2.6179959774017334,\n",
       "  2.5200932025909424]]"
      ]
     },
     "execution_count": 50,
     "metadata": {},
     "output_type": "execute_result"
    }
   ],
   "source": [
    "all_history"
   ]
  },
  {
   "cell_type": "code",
   "execution_count": 51,
   "metadata": {},
   "outputs": [
    {
     "data": {
      "text/plain": [
       "110"
      ]
     },
     "execution_count": 51,
     "metadata": {},
     "output_type": "execute_result"
    }
   ],
   "source": [
    "len(all_history[0])"
   ]
  },
  {
   "cell_type": "code",
   "execution_count": 52,
   "metadata": {},
   "outputs": [],
   "source": [
    "all_mae_avg = pd.DataFrame(all_history).mean(axis=0)"
   ]
  },
  {
   "cell_type": "code",
   "execution_count": 53,
   "metadata": {},
   "outputs": [
    {
     "data": {
      "text/plain": [
       "0      19.630101\n",
       "1      16.414412\n",
       "2      12.444112\n",
       "3       8.629771\n",
       "4       6.112586\n",
       "         ...    \n",
       "105     2.405969\n",
       "106     2.452848\n",
       "107     2.407567\n",
       "108     2.386718\n",
       "109     2.381758\n",
       "Length: 110, dtype: float64"
      ]
     },
     "execution_count": 53,
     "metadata": {},
     "output_type": "execute_result"
    }
   ],
   "source": [
    "all_mae_avg"
   ]
  },
  {
   "cell_type": "code",
   "execution_count": 54,
   "metadata": {},
   "outputs": [
    {
     "data": {
      "image/png": "[encoded data removed]",
      "text/plain": [
       "<Figure size 1000x1000 with 1 Axes>"
      ]
     },
     "metadata": {},
     "output_type": "display_data"
    }
   ],
   "source": [
    "import matplotlib.pyplot as plt\n",
    "\n",
    "fig = plt.figure(figsize=(10,10))\n",
    "plt.plot(range(1,len(all_mae_avg[15:])+1), all_mae_avg[15:])\n",
    "plt.show()"
   ]
  },
  {
   "cell_type": "code",
   "execution_count": 55,
   "metadata": {},
   "outputs": [
    {
     "name": "stdout",
     "output_type": "stream",
     "text": [
      "4/4 [==============================] - 0s 1ms/step - loss: 10402411.0000 - mae: 3133.0217\n"
     ]
    },
    {
     "data": {
      "text/plain": [
       "[10402411.0, 3133.021728515625]"
      ]
     },
     "execution_count": 55,
     "metadata": {},
     "output_type": "execute_result"
    }
   ],
   "source": [
    "model.evaluate(test_data, test_labels)"
   ]
  }
 ],
 "metadata": {
  "kernelspec": {
   "display_name": "Python 3",
   "language": "python",
   "name": "python3"
  },
  "language_info": {
   "codemirror_mode": {
    "name": "ipython",
    "version": 3
   },
   "file_extension": ".py",
   "mimetype": "text/x-python",
   "name": "python",
   "nbconvert_exporter": "python",
   "pygments_lexer": "ipython3",
   "version": "3.11.5"
  }
 },
 "nbformat": 4,
 "nbformat_minor": 2
}
